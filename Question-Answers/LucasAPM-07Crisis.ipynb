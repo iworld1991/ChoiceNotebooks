{
 "cells": [
  {
   "cell_type": "markdown",
   "metadata": {
    "deletable": true,
    "editable": true
   },
   "source": [
    "### Lucas Asset Pricing Model and Financial Crisis\n",
    "\n",
    "- Notebook Author: Tao Wang\n",
    "- twang80@jhu.edu\n",
    "- Time: Nov 2018\n",
    "- [Original Homework](ps4.pdf)\n",
    "\n",
    "\n",
    "According to Consumption-CAPM:\n",
    "\n",
    "$$\n",
    "E(\\mathbb{R}_{t+1,i}) - R = \\rho Cov_t(\\Delta log C_{t+1},R_{t+1,i})  \\quad (1)\n",
    "$$\n",
    "\n",
    "which implies the expected premium of asset $i$ is positively correlated with the risk aversion parameter and covariance of log-consumption growth and expected return of the risky asset $i$. $i = S \\; or \\; O$ for either asset. Throught the analysis we assume the risk-free return remains unchanged.\n",
    "\n",
    "\n",
    "According to Lucas Tree model, in the infinite horizon, the price-to-dividend ratio is a constant given by \n",
    "\n",
    "\n",
    "$$\n",
    "\\frac{P_i}{D_i} = \\frac{1}{\\theta} \\quad (2)\n",
    "$$\n",
    "\n",
    "where $\\theta$ is the time preference rate.\n",
    "\n",
    "##### (a) \n",
    "\n",
    "In the scenario with a permanent drop of $D_S$ by $50\\%$, $P_S$ should drop by $50\\%$ so that the ratio of the two remains a constant. The prediction can be also confirmed by equation (1) for the fact that the expected return remains constant only if price drops in response to drop of future dividend, as the RHS of (1) does not change for asset S.\n",
    "\n",
    "Since subprime market is small, it has no impact on the other asset market both in terms of $P_O$ and $\\frac{P_O}{D_O}$\n",
    "\n",
    "#### (b)\n",
    "\n",
    "In the scenario with an increase in varience of dividends of $D_S$, variance of return $\\mathbb{R}_{t+1,S}$ also increases, thus so does covarience $Cov_{t+1}(\\Delta log C_{t+1},\\mathbb{R_{t+1,i}})$ for the following equality. \n",
    "\n",
    "$$\n",
    "Cov_{t+1}(\\Delta log C_{t+1},\\mathbb{R}_{t+1,i}) = \\beta_{corr} \\sqrt{Var(\\Delta log C_{t+1,S})Var(\\mathbb{R}_{t+1,i})} \\quad (3)\n",
    "$$\n",
    "\n",
    "By equation (2) we know this is the case only if $\\mathbb{R}_{t+1,S}$ increases. Since the future dividends remain unchanged, the price $P_S$ drops. The ratio of $\\frac{P_S}{D_S}$ also decreases as there is no change to $D_S$. Notice this seems to contradict with equation (2). This is not the case because there is only one asset in Lucas's model. Here higher variance of the dividends reduce the demand for the asset as they shift part of investment to other assets, thus lowering its prices.\n",
    "\n",
    "No effects on the other market as the sub-price market is small.\n",
    "\n",
    "##### (c)\n",
    "\n",
    "According to equation (1), increase of risk-aversion $\\rho$ needs to be equalized by an increase of expected return $\\mathbb{R}_{t+1,i}$ in both assets. Since there are no changes to dividends stream for both assets $D_S$ and $D_O$, the prices of two assets $P_S$ and $P_O$ both drop. The ratio $\\frac{P_S}{D_S}$ and $\\frac{P_O}{D_O}$ remain constant according to equation (2). "
   ]
  },
  {
   "cell_type": "code",
   "execution_count": null,
   "metadata": {
    "collapsed": true
   },
   "outputs": [],
   "source": []
  }
 ],
 "metadata": {
  "kernelspec": {
   "display_name": "Python 3",
   "language": "python",
   "name": "python3"
  },
  "language_info": {
   "codemirror_mode": {
    "name": "ipython",
    "version": 3
   },
   "file_extension": ".py",
   "mimetype": "text/x-python",
   "name": "python",
   "nbconvert_exporter": "python",
   "pygments_lexer": "ipython3",
   "version": "3.5.3"
  }
 },
 "nbformat": 4,
 "nbformat_minor": 0
}
