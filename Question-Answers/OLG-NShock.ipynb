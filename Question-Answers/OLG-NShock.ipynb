{
 "cells": [
  {
   "cell_type": "markdown",
   "metadata": {
    "deletable": true,
    "editable": true
   },
   "source": [
    "### Population Growth and Dynamics Inefficiency in the OLG Model\n",
    "\n",
    "- Notebook Author: Tao Wang\n",
    "- Email: twang80@jhu.edu\n",
    "- Time: Nov 19, 2018\n",
    "- [Original Homework](ps2.pdf)"
   ]
  },
  {
   "cell_type": "markdown",
   "metadata": {
    "deletable": true,
    "editable": true
   },
   "source": [
    "\n",
    "Assuming logarithmic utility function and Cobb-Douglas Aggregated Production Function\n",
    "\n",
    "$$\n",
    "u(c) = ln(c) \\\\\n",
    "Y = F(K,L) = K^\\alpha L^{(1-\\alpha)}\n",
    "$$\n",
    "\n",
    "##### Question (a) \n",
    "\n",
    "We start from the optimizing problem of young generation \n",
    "\n",
    "\n",
    "$$\n",
    "\\text{max} \\; u(c_{1,t}) + \\beta u(c_{2,t+1}) \\\\\n",
    "s.b.to\\; w_{1,t}-c_{1,t} = a_{1,t} \\\\\n",
    "\\text{and}\\; c_{2,t+1} = a_{1,t} R \n",
    "$$\n",
    "\n",
    "\n",
    "Solving the problem gets Euler equation \n",
    "\n",
    "$$\n",
    "\\frac{u'(c_{1,t})}{u'(c_{2,t+1})}=\\frac{c_{2,t+1}}{c_{1,t}}=\\beta R \\; \n",
    "$$ \n",
    "\n",
    "Combining budget constraints, we have \n",
    "\n",
    "$$\n",
    "c_{1,t} = \\frac{1}{1+\\beta}w_{1,t} \\quad  (1) \\\\\n",
    "a_{1,t} = \\frac{\\beta}{1+\\beta}w_{1,t}  \\quad (2)\\\\\n",
    "c_{2,t+1} = \\frac{\\beta R}{1+\\beta}w_{1,t}\n",
    "$$\n",
    "\n",
    "The aggregated saving of young people at period t is used at production capital at t+1, that is \n",
    "\n",
    "$$\n",
    "a_{1,t}L_{1,t} = k_{t+1}L_{1,t+1}\n",
    "$$\n",
    "\n",
    "where $k_{t}$ and $k_{t+1}$ denotes capital per labor (young people) at time $t$ and $t+1$,respectively. \n",
    "\n",
    "For\n",
    "\n",
    "$$\n",
    "L_{1,t+1} =L_{1,t} \\Xi_{t+1} \n",
    "$$\n",
    "\n",
    "we have \n",
    "\n",
    "$$\n",
    "a_{1,t} = k_{t+1} \\Xi_{t+1} \\quad (3)\n",
    "$$\n",
    "\n",
    "From profits maximization in production, we have \n",
    "\n",
    "$$\n",
    "w_{1,t+1} = (1-\\alpha)k_{t+1}^\\alpha \\\\\n",
    "w_{1,t} = (1 -\\alpha)k_{t}^\\alpha  \\quad (4) \\\\\n",
    "R = \\alpha k_{t+1}^{\\alpha-1} \\\\\n",
    "$$\n",
    "\n",
    "Substituting $a_{1,t}$ and $w_{1,t}$ in equation (2) using (3) and (4) gives evolution of capital per worker\n",
    "\n",
    "$$\n",
    "k_{t+1} = \\frac{\\beta(1-\\alpha)}{(1+\\beta)\\Xi_{t+1}}  k_t^\\alpha \\quad (5)\n",
    "$$"
   ]
  },
  {
   "cell_type": "markdown",
   "metadata": {
    "deletable": true,
    "editable": true
   },
   "source": [
    "\n",
    "##### Question (b) \n",
    "\n",
    "In order to get the steady state capital $\\bar k$, let $k_t =k_{t+1}$, and $\\Xi_{t+1} = \\Xi$, we have \n",
    "\n",
    "$$\n",
    "\\bar k = [\\frac{\\beta(1-\\alpha)}{(1+\\beta)\\Xi}]^{\\frac{1}{1-\\alpha}} \\quad (6)\n",
    "$$"
   ]
  },
  {
   "cell_type": "markdown",
   "metadata": {
    "deletable": true,
    "editable": true
   },
   "source": [
    "##### Question (c)\n",
    "\n",
    "In the presense of a faster rate of population growth rate $\\widehat{\\Xi}$, the new steady state capital $\\widehat{k}$ \n",
    "\n",
    "\n",
    "$$\n",
    "\\widehat k = [\\frac{\\beta(1-\\alpha)}{(1+\\beta)\\widehat \\Xi}]^{\\frac{1}{1-\\alpha}} < \\bar k \n",
    "$$\n",
    "\n",
    "This implies higher population growth is associated with a lower level of capital per capita in steady state. With faster population growth, there are more workers to divide the same amount of total capital. "
   ]
  },
  {
   "cell_type": "markdown",
   "metadata": {
    "deletable": true,
    "editable": true
   },
   "source": [
    "##### Question (d) \n",
    "\n",
    "#####  Simulation \n",
    "\n",
    "- We use $k_{t+1} = \\frac{\\beta(1-\\alpha)}{(1+\\beta)(\\xi+1)}  k_t^\\alpha$.\n",
    "- Each period t lasts for 30 years. \n",
    "- Capital share of production $\\alpha$ is assumed to be 0.33.\n",
    "- For covenience, $k_t$ and $k_{t+1}$ are restricted to be the range (0,0.05).\n",
    "- Annual population growth take different values 0.01 and 0.03, that translates into $\\xi = \\Xi -1$ take $1.01^{30}-1=$ and $1.03^{30}-1$."
   ]
  },
  {
   "cell_type": "code",
   "execution_count": 1,
   "metadata": {
    "collapsed": true,
    "deletable": true,
    "editable": true
   },
   "outputs": [],
   "source": [
    "## Import python packages \n",
    "\n",
    "import matplotlib\n",
    "matplotlib.rcParams['text.usetex'] = True\n",
    "matplotlib.rcParams['text.latex.unicode'] = True\n",
    "import matplotlib.pyplot as plt\n",
    "import numpy as np\n",
    "%matplotlib inline  "
   ]
  },
  {
   "cell_type": "code",
   "execution_count": 2,
   "metadata": {
    "collapsed": true,
    "deletable": true,
    "editable": true
   },
   "outputs": [],
   "source": [
    "### Define the function  k_{t+1}(k_t)\n",
    "\n",
    "def kt_kt1(k_t,β, α, ξ):\n",
    "    temp1 = 1-α ## (1-alpha)\n",
    "    temp2 = β/(1+β) ##(beta/(1+beta))\n",
    "    slope = temp1*temp2/(ξ+1)\n",
    "    return slope*k_t**α"
   ]
  },
  {
   "cell_type": "code",
   "execution_count": 4,
   "metadata": {
    "collapsed": false,
    "deletable": true,
    "editable": true
   },
   "outputs": [],
   "source": [
    "## Set invariable parameters \n",
    "\n",
    "β_1yr = 0.96   # annual discount rate\n",
    "duration = 30   ## nb of years in each generation\n",
    "β = (β_1yr)**duration  ## discount rate over 30 years\n",
    "α = .33  ## capital share of capital \n",
    "\n",
    "### Set variable parameters: population growth over 30 years\n",
    "pop_gr_list = np.array([1.01,1.03])\n",
    "ξ_list = pop_gr_list**duration-1"
   ]
  },
  {
   "cell_type": "code",
   "execution_count": 7,
   "metadata": {
    "collapsed": false,
    "deletable": true,
    "editable": true
   },
   "outputs": [
    {
     "data": {
      "image/png": "[encoded data removed]",
      "text/plain": [
       "<matplotlib.figure.Figure at 0x10f97c0b8>"
      ]
     },
     "metadata": {},
     "output_type": "display_data"
    }
   ],
   "source": [
    "## Plot the function \n",
    "\n",
    "k_t = np.linspace(0,.05)\n",
    "k_simu = dict()\n",
    "fig =plt.plot(figsize=(20,10))\n",
    "plt.rc('text', usetex=True)\n",
    "plt.plot(k_t,k_t,label=r'k_t =k_{t+1}',linestyle='--')\n",
    "plt.axis([0,.05,0,.05])\n",
    "plt.xlabel(r'k_t',size=17)\n",
    "plt.ylabel(r'k_{t+1}',size=17)\n",
    "plt.title('Evolution of Capital per Capita')\n",
    "for id in range(len(ξ_list)):\n",
    "    k_simu[id]=kt_kt1(k_t,β,α,ξ_list[id])   \n",
    "    plt.plot(k_t,k_simu[id],label='Pop Growth Rate='+str(round(pop_gr_list[id]-1,2)))\n",
    "plt.legend(loc=4)\n",
    "plt.annotate(r'\\bar k_0',xy=(.04,.04),xytext=(.042, .040),size=15)\n",
    "plt.annotate(r'\\bar k_1',xy=(.015,.015),xytext=(.015, .015),size=15)\n",
    "plt.arrow(.039,.039, 0, -.0165,head_length=0.001,head_width=0.001,fc=\"k\", ec=\"k\",width=.00001)\n",
    "plt.arrow(.039,.0215,-.0165,0,head_length=0.001,head_width=0.001,fc=\"k\", ec=\"k\",width=.000001)\n",
    "plt.arrow(.022,.0215,0,-.003,head_length=0.001,head_width=0.001,fc=\"k\", ec=\"k\",width=.000001)\n",
    "plt.arrow(.022,.0182,-0.002,0,head_length=0.001,head_width=0.001,fc=\"k\", ec=\"k\",width=.000001)\n",
    "plt.show()"
   ]
  },
  {
   "cell_type": "markdown",
   "metadata": {
    "deletable": true,
    "editable": true
   },
   "source": [
    "##### Observation\n",
    "\n",
    "The dashed blue line is the 45 degree line. The intersection of line of capital per capita with the 45 degree line is the steady state capital level.\n",
    "\n",
    "It is clearly seen that the steady state capital level decreases as the population growth becomes higher, which confirms our prior prediction.\n",
    "\n",
    "The arrows from $\\bar k_0$ to $\\bar k_1$ explains the path of dynamic adjustment from old to new steady state."
   ]
  },
  {
   "cell_type": "markdown",
   "metadata": {
    "deletable": true,
    "editable": true
   },
   "source": [
    "##### Question (e) \n",
    "\n",
    "Define an index of aggregate consumption per person in period t $\\chi_t$. It can be derived by dividing total consumption at time $t$, $c_{1,t}L_{1,t} + c_{2,t}L_{2,t}$ by $L_{1,t}$.\n",
    "\n",
    "$$\n",
    "\\chi_t = c_{1,t} + \\frac{c_{2,t}}{\\Xi} \n",
    "$$\n",
    "\n",
    "\n",
    "\n",
    "Consumption per capita relative to young people is an appropriate measure. Because only young people take part in the production process, we measure capital per capita relative to young population. The consumption is measured in the same way so that we could directly derive relation between capital and consumption on per capita basis. \n",
    "\n",
    "Now let's derive the consumption level $\\chi_t$ associated with a given capital level $k_t$. The economy always have to satisfy the dynamic budget constraint. In each period, the new production is either used as additional capital or consumed by both generation. \n",
    "\n",
    "$$\n",
    "K_t + F(K_t,L_{1,t}) = K_{t+1} + C_{1,t} + C_{2,t} \\\\\n",
    "$$\n",
    "\n",
    "Deviding it by $L_{1,t}$, we get \n",
    "\n",
    "$$\n",
    "k_t + f(k_t) = \\Xi k_{t+1} + c_{1,t} + \\frac{c_{2,t}}{\\Xi} \\\\\n",
    "k_t + k_t^\\alpha = \\Xi k_{t+1} + \\chi_t \n",
    "$$\n",
    "\n",
    "A sustainable level of consumption is one that keeps capital per capita constant. Let $k_t = k_{t+1}$, we solve for the consumption $\\chi_t$ associated with $k_t$ \n",
    "\n",
    "$$\n",
    "\\chi_t = k_t^\\alpha - (\\Xi-1)k_t = k_t^\\alpha - \\xi k_t\n",
    "$$"
   ]
  },
  {
   "cell_type": "markdown",
   "metadata": {
    "deletable": true,
    "editable": true
   },
   "source": [
    "\n",
    "##### Question (f) \n",
    "\n",
    "\n",
    "Assuming in steady state, $\\bar k = k_t$, we have\n",
    "\n",
    "$$\n",
    "\\chi_t = \\bar k ^\\alpha - (\\Xi-1)\\bar k = \\bar k ^\\alpha - \\xi \\bar k\n",
    "$$\n",
    "\n",
    "Taking derivative of $\\chi_t$ with respect to $\\xi$, we have \n",
    "\n",
    "$$\n",
    "\\frac{d \\chi_t}{d \\xi} = -\\bar k + \\frac{\\partial \\chi_t}{\\partial \\bar k}\\frac{\\partial \\bar k}{\\partial \\xi} \n",
    "$$\n",
    "\n",
    "This is the impact on population growth depends on two counter balancing factors. First, increasing population growth directly requires more saving thus less consumption in order to keep the capital per capita in the same level. Second, increasing population growth may affect steady state capital per capita. The direction of the impact, however, is undetermined. \n",
    "\n",
    "Specifically, $\\frac{\\partial \\bar k}{\\partial \\xi} <0$ is known. The sign of $\\frac{\\partial \\chi_t}{\\partial \\bar k} $ could be either positive or negative. \n",
    "\n",
    "When it is negative, we have \n",
    "\n",
    "$$\n",
    "\\frac{\\partial \\chi_t}{\\partial \\bar k} = \\alpha k^{\\alpha-1} -\\xi = f'(k) -\\xi = r - \\xi < 0\n",
    "$$\n",
    "\n",
    "Or in words, we know only when the economy is dynamically inefficient so a decrease of capital per capita increases consumption. This is actually the condition for the economy to be dynamically inefficient. \n",
    "\n",
    "We notice only if $\\frac{\\partial \\chi_t}{\\partial \\bar k}$ is sufficiently negative, could the derivative be positive, engendering increasing population to increase consumption."
   ]
  },
  {
   "cell_type": "markdown",
   "metadata": {
    "deletable": true,
    "editable": true
   },
   "source": [
    "### Appendix \n",
    "\n",
    "Just for fun, I also conducted a simulation on the evolution of capital per capita in OLG model.\n",
    "\n",
    "- I set the initial level of capital per capita and then the function gives me the path of evolution."
   ]
  },
  {
   "cell_type": "code",
   "execution_count": 10,
   "metadata": {
    "collapsed": false,
    "deletable": true,
    "editable": true
   },
   "outputs": [
    {
     "name": "stdout",
     "output_type": "stream",
     "text": [
      "The evolution of capital per capita isk_t+1=0.11k_t^0.33\n",
      "The evolution of capital per capita isk_t+1=0.06k_t^0.33\n"
     ]
    },
    {
     "data": {
      "text/plain": [
       "<matplotlib.legend.Legend at 0x10a52c668>"
      ]
     },
     "execution_count": 10,
     "metadata": {},
     "output_type": "execute_result"
    },
    {
     "data": {
      "image/png": "[encoded data removed]",
      "text/plain": [
       "<matplotlib.figure.Figure at 0x10fa6b5c0>"
      ]
     },
     "metadata": {},
     "output_type": "display_data"
    }
   ],
   "source": [
    "### Define the capital evolution function based on parameters \n",
    "\n",
    "k0 =.00001\n",
    "period =200\n",
    "def k_evolution(k0,period,beta, alpha, xi):    ## takes k0, beta, alpha, xi as inputs and returns k_t+1 as output\n",
    "    temp1 = 1-alpha ## (1-alpha)\n",
    "    temp2 = beta/(1+beta) ##(beta/(1+beta))\n",
    "    slope = temp1*temp2/(xi+1)\n",
    "    print('The evolution of capital per capita is'+ 'k_t+1='+str(round(slope,2))+'k_t^0.33')\n",
    "    k_t = np.empty(period)\n",
    "    k_t[0] = k0\n",
    "    \n",
    "    for i in range(period-1):\n",
    "        k_t[i+1] = slope*k_t[i]**alpha\n",
    "    return k_t[:-1],k_t[1:]    # return k_t and k_{t+1}\n",
    "\n",
    "## Plot the simulation results \n",
    "\n",
    "k = np.linspace(0,.05)\n",
    "k_simu = dict()\n",
    "fig =plt.plot(figsize=(20,10))\n",
    "plt.plot(k,k,label='$k_t =k_{t+1}$',linestyle='--')\n",
    "plt.axis([0,.05,0,.05])\n",
    "plt.xlabel('$k_t$',size=17)\n",
    "plt.ylabel('$k_{t+1}$',size=17)\n",
    "plt.title('Evolution of Capital per Capita')\n",
    "for id in range(len(ξ_list)):\n",
    "    k_simu[id]=k_evolution(k0,period, β,α,ξ_list[id])   \n",
    "    plt.plot(k_simu[id][0],k_simu[id][1],label='Pop Growth Rate='+str(round(pop_gr_list[id]-1,2)))\n",
    "plt.legend(loc=4)"
   ]
  }
 ],
 "metadata": {
  "kernelspec": {
   "display_name": "Python 3",
   "language": "python",
   "name": "python3"
  },
  "language_info": {
   "codemirror_mode": {
    "name": "ipython",
    "version": 3
   },
   "file_extension": ".py",
   "mimetype": "text/x-python",
   "name": "python",
   "nbconvert_exporter": "python",
   "pygments_lexer": "ipython3",
   "version": "3.5.3"
  }
 },
 "nbformat": 4,
 "nbformat_minor": 0
}
