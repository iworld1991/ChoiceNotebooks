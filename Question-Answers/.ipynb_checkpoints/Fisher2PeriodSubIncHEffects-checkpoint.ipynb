{
 "cells": [
  {
   "cell_type": "markdown",
   "metadata": {
    "deletable": true,
    "editable": true
   },
   "source": [
    "### The Income, Substitution, and Human Wealth Effects in a Two Period Lifetime (Fisher (1930))\n",
    "\n",
    "\n",
    "- Notebook Author: Tao Wang\n",
    "- Email: twang80@jhu.edu \n",
    "- Time: November 21, 2018\n",
    "- [Original Homework](ps1b.pdf)"
   ]
  },
  {
   "cell_type": "markdown",
   "metadata": {
    "deletable": true,
    "editable": true
   },
   "source": [
    "\n",
    "##### (a) What is the saving and consumption in the first period?\n",
    "\n",
    "$$\n",
    "u(c) = \\frac{c^{1-\\rho}}{1-\\rho}\n",
    "$$\n",
    "\n",
    "Maximizing conditions require: \n",
    "\n",
    "$$\n",
    "\\frac{u'(c_2)}{u'(c_1)} = R \\beta \\\\\n",
    "\\Rightarrow \\frac {c_2}{c_1} = (R \\beta)^{\\frac{1}{\\rho}}\n",
    "$$\n",
    "\n",
    "\n",
    "Combining $c_2 = (y_1 - c_1)R + y_2 \\Rightarrow$\n",
    "\n",
    "- Consumption in the first period: \n",
    "\n",
    "$$\n",
    "c_1 = \\frac{1}{1+R^{(1-\\rho)/\\rho} \\beta^{1/\\rho}}(y_1+\\frac{y_2}{R})\n",
    "$$\n",
    "\n",
    "- Saving in the first period: \n",
    "$$\n",
    "s_1 = y_1 - c_1 =\\frac{R^{(1-\\rho)/\\rho}}{1+R^{(\\rho-1)/\\rho} \\beta^{1/\\rho}}(y_1+\\frac{y_2}{R})\n",
    "$$\n"
   ]
  },
  {
   "cell_type": "markdown",
   "metadata": {
    "deletable": true,
    "editable": true
   },
   "source": [
    "##### (b) Assuming $y_2 = 0$, non-capital income is zero in $t_2$. What is the effect of interest rate rise on saving rate and consumption ?\n",
    "\n",
    "$$\n",
    "\\Rightarrow c_1 = \\frac{1}{1+R^{(1-\\rho)/\\rho} \\beta^{1/\\rho}}y_1 \\\\\n",
    "s_1 = \\frac{R^{(1-\\rho)/\\rho}\\beta^{1/\\rho}}{1+R^{(1-\\rho)/\\rho} \\beta^{1/\\rho}}y_1\n",
    "$$\n",
    "\n",
    "Then the derivative of saving with respect to interest rate R: \n",
    "\n",
    "$$\n",
    "\\frac{\\partial s_1}{\\partial R} = \\frac{(1-\\rho)/\\rho}{ \\beta^{-1/\\rho} R^{(2\\rho-1)/\\rho} +R + (R\\beta)^{1/\\rho}}y_1\n",
    "$$\n",
    "\n",
    "With denominator component being always positive, the sign of $\\frac{\\partial s_1}{\\partial R}$ only depends on $\\frac{1-\\rho}{\\rho}$, which depends on $\\rho$.\n",
    "\n",
    "\n",
    "The key lies in the economic meaning of $\\rho$ as illustrated below:\n",
    "\n",
    "$$\n",
    "\\frac{\\partial ln(\\frac{c_2}{c_1})}{\\partial ln(R)} = \\rho^{-1}\n",
    "$$\n",
    "\n",
    "As there is no non-capital income in $t_2$, there is **no human wealth effect**. Consumption and saving response in interest rate depends on the relative size of **substitution** effect and **income** effect.\n",
    "\n",
    "$\\rho^{-1}$ stands for the elasticity of intertemporal subsitution. Although the rise of interest rate will lead consumers to **substitute** current consumption to future consumption, it does not necessarily result in a higher saving rate. Besides subsititution effect, there is also **income effect**. With higher interest rate, substitution effects reduces current consumption relative to future consumption because it makes consumption today more expensive. In the same time, however, income effects tend to increase current consumption as given amount of saving would earn more interest income in the second period. \n",
    "\n",
    "\n",
    "(1) Case $\\rho \\rightarrow 0, \\frac{\\partial s_1}{\\partial R} > 0$. This is the extreme case of infinitly high elasticitiy of substitution ($\\rho^{-1} \\rightarrow \\infty$). A small rise of interest rate is enough to drive up saving today for there is only substitution effects but no substitution effects.\n",
    "\n",
    "(2) As $0 < \\rho <1,\\frac{\\partial s_1}{\\partial R}  > 0$. Substitution effects dominate income effects. Interest rate rise leads to shift of consumption from period one to period two, thus **increasing saving** in period one. \n",
    "\n",
    "(3) As $\\rho = 1,\\frac{\\partial s_1}{\\partial R}  = 0$ Elasticity of intertemporal substitution is one, implying the consumers are indifferent to same amount of current consumption versus future consumption. Substitution effects and income effects cancel out. Therefore, interest rate change **does not change saving**. \n",
    "\n",
    "(4) As $\\rho >1,\\frac{\\partial s_1}{\\partial R}  < 0$. Income effects dominate substitution effects. Interest rate rise leads to **higher consumption** and lower saving in the first period.\n",
    "\n",
    "(5) As $\\rho \\rightarrow \\infty,\\frac{\\partial s_1}{\\partial R}  < 0, \\frac{\\partial s_1}{\\partial R} \\rightarrow \\frac{-1}{R^2 +R + 1}$ Also, from Euler equation, we know $\\frac{c_2}{c_1} = (R\\beta)^{\\frac{1}{\\rho}} \\rightarrow (R\\beta)^0 =1 \\Leftrightarrow c_2 =c_1$. This is the extreme case of zero elasticitiy of substitution ($\\rho^{-1} \\rightarrow 0$). The consumers do not adjust current consumption relative to future consumption. Therefore there are only income effects but not substitution effects. An interest rate rise increases capital income in the second period, so the consumers only allocate evenly the added income to two periods. \n"
   ]
  },
  {
   "cell_type": "markdown",
   "metadata": {
    "collapsed": true,
    "deletable": true,
    "editable": true
   },
   "source": [
    "##### (c)  Non-capital income is zero in $t_1$, $y_1 = 0$. What is the effect of interest rate rise on saving rate and consumption ?\n",
    "\n",
    "Now there is also human effect as non-capital income is non-zero in $t_2$. Higher interest rate lowers human wealth and consumption and increases saving. It is the easiest to consider the case when $\\rho =1$ where substitution and income effect cancel out. **The net effect from a higher interest rate via human wealth channel is unambiguously lowers consumption and increases saving.** It turns out this holds general for other values of $\\rho$.  Details seen below. \n",
    "\n",
    "$$\n",
    "c_1 = \\frac{1}{1+R^{(1-\\rho)/\\rho} \\beta^{1/\\rho}}(y_1+\\frac{y_2}{R}) = \\frac{1}{R+R^{1/\\rho} \\beta^{1/\\rho}}y_2 \\\\\n",
    "\\frac{\\partial c_1}{\\partial R} = \\frac{-(1 + \\frac{1}{\\rho}R^{(1-\\rho)/\\rho} \\beta^{1/\\rho})}{(R+R^{1/\\rho} \\beta^{1/\\rho})^2}y_2\n",
    "$$\n",
    "\n",
    "$$\n",
    "s_1 = y_1 - c_1 = -c_1 = \\frac{-1}{R+R^{1/\\rho} \\beta^{1/\\rho}}y_2 \\\\\n",
    "\\frac{\\partial s_1}{\\partial R} = \\frac{1 + \\frac{1}{\\rho}R^{(1-\\rho)/\\rho} \\beta^{1/\\rho}}{(R+R^{1/\\rho} \\beta^{1/\\rho})^2}y_2\n",
    "$$\n",
    "\n",
    "It is obvious that $s_1 < 0$. There is no income earned in the first period. So consumers borrow (instead of saving) to smooth consumption. \n",
    "\n",
    "Also we have\n",
    "\n",
    "$$\n",
    "\\frac{\\partial c_1}{\\partial R} < 0 \\\\\n",
    "\\frac{\\partial s_1}{\\partial R} > 0 \\\\\n",
    "$$ \n",
    "\n",
    "$R \\uparrow \\rightarrow c_1 \\downarrow, s_1 \\uparrow$. \n",
    "\n",
    "In the case where all non-capital income is earned in $t_2$, there is human wealth effect besides income effect and substitution effect. Human wealth is defined as $\\frac {y_2}{R}$. As $R$ rises, the consumers in the first period have lower human wealth, which drives down consumption and drive up the saving in the first period. In the same time, substitution effect also serves as a force for consumption to go down. \n",
    "\n",
    "We know from (a) that substitution and income effect cancel out as $\\rho =1$. Now the pure human wealth effect on consumption is $\\frac{\\partial c_1}{\\partial R} \\rightarrow \\frac{-(1+\\beta)}{(1+R)^2}$.\n",
    "\n",
    "As $\\rho \\rightarrow \\infty$, the elasticity of intertemporal substitution is close to zero. This is the case without substitution effect. Then the net income effect and human wealth effect is $\\frac{\\partial c_1}{\\partial R} = -\\frac{1}{1+R}$."
   ]
  },
  {
   "cell_type": "markdown",
   "metadata": {
    "collapsed": true,
    "deletable": true,
    "editable": true
   },
   "source": [
    "(d) Assuming $y_1 = y_2 = y$, there are non-capital income in both periods. \n",
    "\n",
    "$$\n",
    "c_1 = \\frac{1}{1+R^{(1-\\rho)/\\rho} \\beta^{1/\\rho}}(y_1+\\frac{y_2}{R}) = \\frac{1+R}{R+R^{1/\\rho} \\beta^{1/\\rho}}y \\\\\n",
    "\\frac{\\partial c_1}{\\partial R} = \\frac{R\\beta^{1/\\rho} + \\frac{1}{\\rho} -\\frac{1}{\\rho} \\beta^{1/\\rho}R\\frac{1-\\rho}{\\rho}-1}{(R + (\\beta R)^{1/\\rho})^2}\n",
    "$$\n",
    "\n",
    "$$\n",
    "s_1 = y_1 - c_1 = \\frac{(R\\beta)^{1/\\rho}-1}{R+R^{1/\\rho} \\beta^{1/\\rho}} y  \\\\\n",
    "\\frac{\\partial s_1}{\\partial R} = - \\frac{R\\beta^{1/\\rho} + \\frac{1}{\\rho} -\\frac{1}{\\rho} \\beta^{1/\\rho}R\\frac{1-\\rho}{\\rho}-1}{(R + (\\beta R)^{1/\\rho})^2}\n",
    "$$\n",
    "\n",
    "(1) As $\\rho \\rightarrow \\infty$, there is no inter-temporal substitution. \n",
    "\n",
    "$c_1 \\rightarrow y$, consumers just consume all income in the same period. Saving is zero. So consumption does not respond to interest rate change. \n",
    "\n",
    "\n",
    "(2) As $\\rho \\rightarrow 0$, inter-temporal substitution goes to infinity.\n",
    "\n",
    "The consumers only consume in one period. From Euler equation condition we know $\\frac{c_2}{c_1} = (R\\beta)^{1/\\rho}$. If $R\\beta <1$, then $c_2 \\rightarrow 0$. If $R\\beta <1$, then $c_1 \\rightarrow 0$. That is \n",
    "\n",
    "$c_1 \\rightarrow (1+\\frac{1}{R})y = y_1 + \\frac{y_2}{R}$ if $R\\beta <1$\n",
    "\n",
    "$c_1 = 0$ if $R\\beta >1$"
   ]
  }
 ],
 "metadata": {
  "kernelspec": {
   "display_name": "Python 3",
   "language": "python",
   "name": "python3"
  },
  "language_info": {
   "codemirror_mode": {
    "name": "ipython",
    "version": 3
   },
   "file_extension": ".py",
   "mimetype": "text/x-python",
   "name": "python",
   "nbconvert_exporter": "python",
   "pygments_lexer": "ipython3",
   "version": "3.5.3"
  }
 },
 "nbformat": 4,
 "nbformat_minor": 0
}
