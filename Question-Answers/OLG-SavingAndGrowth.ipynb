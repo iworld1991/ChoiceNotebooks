{
 "cells": [
  {
   "cell_type": "markdown",
   "metadata": {
    "deletable": true,
    "editable": true
   },
   "source": [
    "### Income Growth Over the Lifetime Versus Between Generations (Modigliani (1986), Carroll and Summers (1991))\n",
    "\n",
    "\n",
    "- Notebook Author: Tao Wang\n",
    "- Email: twang80@jhu.edu \n",
    "- Time: November 21, 2018\n",
    "- [Original Homework](ps1b.pdf)\n",
    "\n",
    "##### (a) Effect of increase in the growth rate of noncapital income over the lifetime on saving of young households.\n",
    "\n",
    "Young people at period t face the following optimization problem:\n",
    "\n",
    "$$\n",
    "\\text{Max } ln(c_{t,1}) + \\beta ln(c_{t+1,2}) \\\\ \n",
    "s.t. c_{t+1,2} = y_{t+1} - c_{t,1}R + y_{t+1,2}\n",
    "$$ \n",
    "\n",
    "Denote unitlity function $u(c) = ln(c)$\n",
    "\n",
    "By optimization condition\n",
    "\n",
    "$$\n",
    "\\frac{u'(c_{t,1})}{u'(c_{t+1,2})} = \\beta R \\\\\n",
    "\\rightarrow \\frac{c_{t+1,2}}{c_{t,1}}=\\beta R \\\\\n",
    "\\rightarrow c_{t,1} = \\frac{Ry_{t,1} + y_{t+1,2}}{\\beta R+ R}\n",
    "$$\n",
    "\n",
    "By $y_{t+1,2} = X y_{t,1}$\n",
    "\n",
    "$$\n",
    "c_{t,1} = \\frac{R + X}{R(1+\\beta)}y_{t,1} \\\\\n",
    "\\rightarrow s_{t,1} = \\frac{R\\beta - X}{R\\beta+1} y_{t,1}\\\\\n",
    "\\rightarrow \\frac{\\partial s_{t,1}}{\\partial X} = -\\frac{y_{t,1}}{R(\\beta +1)} <0\n",
    "$$\n",
    "\n",
    "**This implies saving decreases as future income rises.** Higher future income reduces the need of saving in first period to smooth consumption in the second period. "
   ]
  },
  {
   "cell_type": "markdown",
   "metadata": {
    "deletable": true,
    "editable": true
   },
   "source": [
    "###### (b) Effect of income growth between generations on aggregate saving rate\n",
    "\n",
    "$$\n",
    "K_t = N_{t,1}k_t = N_{t-1,1}s_{t-1,1} \\\\ \n",
    "K_{t+1} = N_{t+1,1}k_{t+1} = N_{t,1}s_{t,1}\n",
    "$$\n",
    "\n",
    "Assuming $N_{t+1,1} = N_{t,1} = 1$, and $y_{t-1,1} = \\frac{y_{t,1}}{G}$\n",
    "\n",
    "$$\n",
    "S_t = K_{t+1} - K_t = s_{t,1} - s_{t-1,1} = \\frac{R\\beta-X}{R(\\beta+1)}\\frac{G-1}{G} y_{t,1} \\\\\n",
    "\\delta_t = \\frac{S_t}{y_{t,1}+y_{t,2}}\n",
    "$$\n",
    "\n",
    "By $y_{t,1} + y_{t,2} = y_{t,1} + X y_{t-1,1} =\\frac{G+X}{G}y_{t,1}$\n",
    "\n",
    "$$\n",
    "\\delta_t = \\frac{S_t}{y_{t,1} + y_{t,2}} = \\frac{R\\beta-X}{R(\\beta+1)}\\frac{G-1}{G+X} \\\\\n",
    "\\rightarrow \\frac{\\partial \\delta_t}{\\partial G} = \\frac{R\\beta-X}{R(\\beta+1)}\\frac{X+1}{(G+X)^2} \\\\\n",
    "$$\n",
    "\n",
    "- $\\frac{\\partial \\delta_t}{\\partial G} > 0$ if $\\beta > \\frac{X}{R}$, slower growth of income of the young increases the saving rate. Or put it differently, only if the young is patient enough for a given growth rate of income, does the aggregate saving increase with inter-generational income growth rate. \n",
    "- $\\frac{\\partial \\delta_t}{\\partial G} < 0$ if $\\beta < \\frac{X}{R}$, faster growth of income of the young draws down the total saving rate via both income and human wealth effect. Or to put it differently, faster growth makes the young more impatient."
   ]
  },
  {
   "cell_type": "markdown",
   "metadata": {
    "deletable": true,
    "editable": true
   },
   "source": [
    "##### (c)  Assuming income growth over life time and across generations are correlated\n",
    "\n",
    "By $X =\\gamma G$ and $R\\beta =1$\n",
    "\n",
    "$$\n",
    "\\delta_t = \\frac{R\\beta-X}{R(\\beta+1)}\\frac{G-1}{G+X} =\\frac{1-\\gamma G}{1+R} \\frac{G-1}{G(1+\\gamma)} =\\frac{1}{(1+R)(1+\\gamma)}\\frac{G-1-\\gamma G^2 +\\gamma G}{G} \\\\\n",
    "\\rightarrow \\frac{\\partial \\delta_t}{\\partial G} = \\frac{1}{(1+R)(1+\\gamma)}\\frac{(1-2\\gamma G+\\gamma)G -G +1+\\gamma G^2 -\\gamma G}{G^2} = \\frac{1}{(1+R)(1+\\gamma)} (\\frac{1}{G^2}-\\gamma)\n",
    "$$\n",
    "\n",
    "The effect of income growth G on aggregate saving rate is not monotone.\n",
    "\n",
    "- Case 1: $\\frac{\\partial \\delta_t}{\\partial G} > 0$ if $G <\\gamma^{-1/2} \\Rightarrow G \\uparrow \\rightarrow \\delta_t \\uparrow$. Starting from a low income growth between generations, higher growth drives up aggregate saving rate. \n",
    "\n",
    "- Case 2: $\\frac{\\partial \\delta_t}{\\partial G} = 0$ if $G =\\gamma^{-1/2} \\Rightarrow G \\uparrow \\rightarrow \\Delta \\delta_t =0$, At this point, $\\delta_t$ attains maximum value given all other factors unchanged. The maximal saving rate is $\\delta_t^* = \\frac{1}{1+R}(1-\\frac{\\gamma^{1/2}}{1+\\gamma})$\n",
    "\n",
    "- Case 3: $\\frac{\\partial \\delta_t}{\\partial G} < 0$ if $G >\\gamma^{-1/2} \\Rightarrow G \\uparrow \\rightarrow \\delta_t \\downarrow$. Higher income growth now drives down saving rate."
   ]
  },
  {
   "cell_type": "markdown",
   "metadata": {
    "deletable": true,
    "editable": true
   },
   "source": [
    "##### (d) Does fast relative income growth explain the high saving rate of Japan relative to the U.S.?\n",
    "\n",
    "- I simulate saving rate using following equations $S_t = \\frac{1}{(1+R)(1+\\gamma)}\\frac{G - 1 - \\gamma G^2 +\\gamma G}{G}$ As we are interested in comparing two countries, we do not need to specify $R$. So instead, I estimate $\\frac{1}{1+\\gamma}\\frac{G - 1 - \\gamma G^2 +\\gamma G}{G}$. \n",
    "\n",
    "- Income ratio of young and old $\\frac{y_{1,t}}{y_{2,t}} = \\frac{y_{1,t}}{Xy_{1,t-1}} = \\frac{G}{X} = \\gamma = 0.7$ for both Japan and the United States\n",
    "- It is assumed to be 30 years from one period to the next. So income grwoth is accumulated growth over 30 years.$G_{us} = (1+.01)^{30} = 1.3478$ and $G_{jp} = (1.04)^{30}= 3.2434$\n",
    "- Here is a back of envelope estimation. In both the U.S. and Japan case, $G > 1.2$ and $\\gamma =0.7 \\Rightarrow \\gamma^{-1/2} = 1.195 \\Rightarrow G > \\gamma^{-1/2} \\Rightarrow G \\uparrow \\rightarrow \\delta_t \\downarrow $ (in Case 3 above). As saving rate is actually negatively related to income growth under these conditions, we will not expect the high income growth helps explain high saving rate in the Japan. \n",
    "\n",
    "#### Here is a formal calculation:"
   ]
  },
  {
   "cell_type": "markdown",
   "metadata": {
    "deletable": true,
    "editable": true
   },
   "source": [
    "The estimated saving rates are  \n",
    "\n",
    "$$\n",
    "\\widehat{\\delta_{US}} = \\frac{1}{R+1} \\frac{1.3478 - 1 - 0.7 * 1.3478^2 + 0.7 * 1.3478}{1 + 0.7} \\approx \\frac{0.0086}{1+R}\\\\\n",
    "\\widehat{\\delta_{JP}} = \\frac{1}{R+1} \\frac{3.2434 - 1 - 0.7 * 3.2434^2 + 0.7 * 3.2434}{1 + 0.7} \\approx \\frac{-0.5169}{1+R}\n",
    "$$\n",
    " \n",
    "We observe $\\widehat{\\delta_{JP}} < \\widehat{\\delta_{US}}$ and $\\widehat{\\delta_{JP}} < 0$. Japan even runs negative saving rate. Therefore based on current assumptions, the high saving rate of Japan relative to the U.S. is not due to higher income growth over the three-decade period."
   ]
  },
  {
   "cell_type": "code",
   "execution_count": null,
   "metadata": {
    "collapsed": true,
    "deletable": true,
    "editable": true
   },
   "outputs": [],
   "source": []
  }
 ],
 "metadata": {
  "kernelspec": {
   "display_name": "Python 3",
   "language": "python",
   "name": "python3"
  },
  "language_info": {
   "codemirror_mode": {
    "name": "ipython",
    "version": 3
   },
   "file_extension": ".py",
   "mimetype": "text/x-python",
   "name": "python",
   "nbconvert_exporter": "python",
   "pygments_lexer": "ipython3",
   "version": "3.5.3"
  }
 },
 "nbformat": 4,
 "nbformat_minor": 0
}
