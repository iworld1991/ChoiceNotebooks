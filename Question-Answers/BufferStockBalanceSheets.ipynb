{
 "cells": [
  {
   "cell_type": "markdown",
   "metadata": {
    "deletable": true,
    "editable": true
   },
   "source": [
    "### Buffer Stock Saving and Relaxation of Borrowing Constraint\n",
    "\n",
    "- Notebook Author: Tao Wang\n",
    "- twang80@jhu.edu\n",
    "- Time: Nov 2018\n",
    "- [Original Homework](ps4.pdf)"
   ]
  },
  {
   "cell_type": "code",
   "execution_count": 2,
   "metadata": {
    "collapsed": true,
    "deletable": true,
    "editable": true
   },
   "outputs": [],
   "source": [
    "import numpy as np\n",
    "import matplotlib.pyplot as plt\n",
    "%matplotlib inline  "
   ]
  },
  {
   "cell_type": "markdown",
   "metadata": {
    "deletable": true,
    "editable": true
   },
   "source": [
    "#### Part a \n",
    "\n",
    "#### (i) Natural Borrowing Constraint. \n",
    "\n",
    "In the case of unemployment, the lender could take from the borrower all future streams of unemployment insurance, the discounted value of which is $\\mathbb{P}(N_0)$ as below.\n",
    "\n",
    "$$\n",
    "\\mathbb{P}(N_0) = \\sum^{\\infty}_{n} R^{-n} N_0 = \\frac{1}{1-R^{-1}} N_0 = N_0 \\frac{R}{r}  \\quad (1)\n",
    "$$\n",
    "\n",
    "\n",
    "This is the maximum amount the lender is willing to lend at next period. When it is discounted back to current period, it is equal to $\\frac{N_0}{r}$. That is \n",
    "\n",
    "$$\n",
    "H < \\frac{N_0}{r} \\equiv \\underline H_{-1}\n",
    "$$"
   ]
  },
  {
   "cell_type": "markdown",
   "metadata": {
    "deletable": true,
    "editable": true
   },
   "source": [
    "#### (ii)\n",
    "\n",
    "An unemployed consumer (who becomes unemployed at time 0) solves a perfect foresight model of consumption with the optimal consumption being\n",
    "\n",
    "$$\n",
    "c^u_0 = \\underbrace{(1- \\frac{(R\\beta)^{1/\\rho}}{R})}_{MPC}\\underbrace{(A_{-1} +\\mathbb{P}(N_0))}_{Life-long Wealth} \\quad (2)\n",
    "$$\n",
    "\n",
    "where $A_{-1}$, the bank balance left with the consumer by the begining of period 0.\n",
    "\n",
    "\n",
    "Plugging in (1) gets us\n",
    "\n",
    "$$\n",
    "c^u_0  =(1- \\frac{(R\\beta)^{1/\\rho}}{R})(A_{-1}+\\frac{N_0}{r}R)  \\quad (3)\n",
    "$$\n",
    "\n",
    "The second term in the bracket of equation (3) is positive if \n",
    "\n",
    "$$\n",
    "(A_{-1}+\\frac{N_0}{r}R) > 0 \\; if \\; A_{-1} > -H_{-1} \\equiv \\frac{N_0}{r}\n",
    "$$ \n",
    "\n",
    "Therefore return impatience condition $\\frac{(R\\beta)^{1/\\rho}}{R} < 1$ guarantees $c^u_0  > 0$.\n",
    "\n",
    "The intuition behind this is that in the case of permanent unemployment, a sufficiently return patient consumer would even consume negative amount for future. The return impatient condition makes sure the consumer at least consume something in the period even suffering from unemployment for the rest of her life."
   ]
  },
  {
   "cell_type": "markdown",
   "metadata": {
    "deletable": true,
    "editable": true
   },
   "source": [
    "#### (iii)\n",
    "\n",
    "As shown in equation (3), the consumption of unemployed consumer in each period is a constant fraction of the expected life-long wealth. It is equal to the bank balance in the same period plus present discount value of all future insurance payments. The effect is equivalent to receiving an all-at-once lum-sum transfer of an amount equal to the PDV of insurance benefits, which is $N_0\\frac{R}{r}$. "
   ]
  },
  {
   "cell_type": "markdown",
   "metadata": {
    "deletable": true,
    "editable": true
   },
   "source": [
    "#### (iv)\n",
    "\n",
    "$$\n",
    "h_{-1} = \\frac{H_{-1}}{l_{-1}{W_{-1}}} \\\\\n",
    "       = \\frac{N_0}{r}\\frac{\\Gamma}{l_0W_0}\\\\\n",
    "       = \\frac{\\eta l_0W_0}{r}\\frac{\\Gamma}{l_0W_0} \\\\\n",
    "       = \\frac{\\eta \\Gamma}{r}\n",
    "$$\n",
    "\n",
    "For a consumer in period -1,\n",
    "\n",
    "$$\n",
    "\\varsigma l_{-1}W_{-1} = \\frac{N_0\\frac{R}{r}}{R}\n",
    "$$\n",
    "\n",
    "\n",
    "\n",
    "$$\n",
    "\\varsigma = \\frac{N_0}{r l_{-1}W_{-1}} \\\\\n",
    "          = \\frac{\\eta l_0W_0}{r l_{-1}W_{-1}} \\\\\n",
    "          = \\eta \\frac{\\Gamma}{r}\n",
    "$$\n"
   ]
  },
  {
   "cell_type": "markdown",
   "metadata": {
    "deletable": true,
    "editable": true
   },
   "source": [
    "#### (v) \n",
    "\n",
    "\n",
    "Introduction of insurance relaxes the borrowing limit of consumer who is unable to borrow at zero wealth in the case without insurance. This leads to left shift of the consumption function. The consumer could consume a positive amount even she runs a sufficiently small negative wealth before unemployment. As we have discussed in (ii), as long as balance to income ratio is greater than $-\\frac{\\eta}{r}$, the consumption remains positive throught the unemployment period. If the balance is smaller than $-\\frac{\\eta}{r}$, consumption goes negative in the unemployed period.\n",
    "\n",
    "See Figure (1) for the example of such a left shift causing targeted bank balance to be negative. "
   ]
  },
  {
   "cell_type": "markdown",
   "metadata": {
    "deletable": true,
    "editable": true
   },
   "source": [
    "#### (vi)\n",
    "\n",
    "Natural borrowing constraint is binding if the consumers have nothing to borrow against. In the absense of unemployment insurance, with zero wealth the consumer cannot borrow at all as once she is unemployed she is left with only negative consumption for the rest of life. With the insurance benefits, a promised flow of income, the consumers could borrow a positive amount even with zero wealth. "
   ]
  },
  {
   "cell_type": "markdown",
   "metadata": {
    "deletable": true,
    "editable": true
   },
   "source": [
    "#### part b"
   ]
  },
  {
   "cell_type": "markdown",
   "metadata": {
    "deletable": true,
    "editable": true
   },
   "source": [
    "##### (a)  \n",
    "\n",
    "Phase diagram and discussion seen Figure 2(a)."
   ]
  },
  {
   "cell_type": "code",
   "execution_count": 14,
   "metadata": {
    "collapsed": false,
    "deletable": true,
    "editable": true
   },
   "outputs": [
    {
     "data": {
      "text/plain": [
       "<matplotlib.text.Text at 0x11f378748>"
      ]
     },
     "execution_count": 14,
     "metadata": {},
     "output_type": "execute_result"
    },
    {
     "data": {
      "image/png": "[encoded data removed]",
      "text/plain": [
       "<matplotlib.figure.Figure at 0x11f251240>"
      ]
     },
     "metadata": {},
     "output_type": "display_data"
    }
   ],
   "source": [
    "### Saving Rate Graph 1\n",
    "fig, axes = plt.subplots(1, 1, figsize=(5, 5), dpi=500)\n",
    "axes.axis([-.5,20,.3,1.6])\n",
    "axes.plot(([1,1,1,.5,.7,.78,.85,.92,.95,1.5,1.3,1.2,1.15,1.1,1.09,1.09,1.09,1.09,1.09,1.09,1.09]),'ko')\n",
    "axes.set_ylabel('Saving Rate')\n",
    "axes.set_xlabel('Period')\n",
    "axes.set_yticks([1])\n",
    "axes.set_yticklabels([\"s\"])\n",
    "axes.axhline(y=1,linestyle='--')\n",
    "axes.set_xticks([3,9])\n",
    "axes.set_xticklabels([\"0\",\"t=6\"])\n",
    "axes.set_title('Saving Rate Dynamics in Response to \\n Lower Unemployment Risk')"
   ]
  },
  {
   "cell_type": "markdown",
   "metadata": {
    "collapsed": true,
    "deletable": true,
    "editable": true
   },
   "source": [
    "##### (b)\n",
    "\n",
    "Phase diagram and discussion seen Figure 2(b)."
   ]
  },
  {
   "cell_type": "code",
   "execution_count": 15,
   "metadata": {
    "collapsed": false,
    "deletable": true,
    "editable": true
   },
   "outputs": [
    {
     "data": {
      "text/plain": [
       "<matplotlib.text.Text at 0x11f3cf2b0>"
      ]
     },
     "execution_count": 15,
     "metadata": {},
     "output_type": "execute_result"
    },
    {
     "data": {
      "image/png": "[encoded data removed]",
      "text/plain": [
       "<matplotlib.figure.Figure at 0x11f3816a0>"
      ]
     },
     "metadata": {},
     "output_type": "display_data"
    }
   ],
   "source": [
    "### Saving Rate Graph 2\n",
    "fig, axes = plt.subplots(1, 1, figsize=(5, 5), dpi=500)\n",
    "axes.axis([-.5,20,.3,1.6])\n",
    "axes.plot(([1,1,1,.5,.7,.78,.85,.92,.95,1.5,1.3,1.2,1.15,1.1,1.09,1.09,1.09,1.09,1.09,1.09,1.09]),'ko')\n",
    "axes.set_ylabel('Saving Rate')\n",
    "axes.set_xlabel('Period')\n",
    "axes.axhline(y=1,linestyle='--')\n",
    "axes.set_yticks([1])\n",
    "axes.set_yticklabels([\"s\"])\n",
    "axes.set_xticks([3,9])\n",
    "axes.set_xticklabels([\"0\",\"t=6\"])\n",
    "axes.set_title('Saving Rate Dynamics in Response to \\n Higher Income Growth')"
   ]
  },
  {
   "cell_type": "markdown",
   "metadata": {
    "collapsed": true,
    "deletable": true,
    "editable": true
   },
   "source": [
    "##### (c)\n",
    "\n",
    "Phase diagram and discussion seen Figure 2(c)."
   ]
  },
  {
   "cell_type": "code",
   "execution_count": 16,
   "metadata": {
    "collapsed": false,
    "deletable": true,
    "editable": true
   },
   "outputs": [
    {
     "data": {
      "text/plain": [
       "<matplotlib.text.Text at 0x11f494128>"
      ]
     },
     "execution_count": 16,
     "metadata": {},
     "output_type": "execute_result"
    },
    {
     "data": {
      "image/png": "[encoded data removed]",
      "text/plain": [
       "<matplotlib.figure.Figure at 0x11f3d9be0>"
      ]
     },
     "metadata": {},
     "output_type": "display_data"
    }
   ],
   "source": [
    "### Saving Rate Graph 3\n",
    "fig, axes = plt.subplots(1, 1, figsize=(5, 5), dpi=500)\n",
    "axes.axis([-.5,20,.3,1.6])\n",
    "axes.plot(([1,1,1,.5,.7,.78,.85,.92,.95,1.5,1.3,1.2,1.15,1.1,1.09,1.09,1.09,1.09,1.09,1.09,1.09]),'ko')\n",
    "axes.set_ylabel('Saving Rate')\n",
    "axes.set_xlabel('Period')\n",
    "axes.set_yticks([1])\n",
    "axes.set_yticklabels([\"s\"])\n",
    "axes.axhline(y=1,linestyle='--')\n",
    "axes.set_xticks([3,9])\n",
    "axes.set_xticklabels([\"0\",\"t=6\"])\n",
    "axes.set_title('Saving Rate Dynamics in Response to \\n Higher Unemployment Insurance Benefits')"
   ]
  },
  {
   "cell_type": "markdown",
   "metadata": {
    "deletable": true,
    "editable": true
   },
   "source": []
  },
  {
   "cell_type": "markdown",
   "metadata": {
    "deletable": true,
    "editable": true
   },
   "source": []
  },
  {
   "cell_type": "markdown",
   "metadata": {
    "deletable": true,
    "editable": true
   },
   "source": []
  },
  {
   "cell_type": "markdown",
   "metadata": {
    "deletable": true,
    "editable": true
   },
   "source": []
  },
  {
   "cell_type": "markdown",
   "metadata": {
    "deletable": true,
    "editable": true
   },
   "source": []
  }
 ],
 "metadata": {
  "kernelspec": {
   "display_name": "Python 3",
   "language": "python",
   "name": "python3"
  },
  "language_info": {
   "codemirror_mode": {
    "name": "ipython",
    "version": 3
   },
   "file_extension": ".py",
   "mimetype": "text/x-python",
   "name": "python",
   "nbconvert_exporter": "python",
   "pygments_lexer": "ipython3",
   "version": "3.5.3"
  }
 },
 "nbformat": 4,
 "nbformat_minor": 0
}
